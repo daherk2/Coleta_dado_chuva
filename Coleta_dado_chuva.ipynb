{
 "cells": [
  {
   "cell_type": "code",
   "execution_count": 1,
   "metadata": {},
   "outputs": [],
   "source": [
    "from __future__ import division\n",
    "import os\n",
    "from math import radians, cos, sin, asin, sqrt\n",
    "import datetime\n",
    "import time"
   ]
  },
  {
   "cell_type": "code",
   "execution_count": 2,
   "metadata": {},
   "outputs": [],
   "source": [
    "#lista todos os estados nos dados de 2006\n",
    "estados = os.listdir('2006')"
   ]
  },
  {
   "cell_type": "code",
   "execution_count": 3,
   "metadata": {},
   "outputs": [],
   "source": [
    "#lista todos os arquivos de estações por estados\n",
    "estacoes = {}\n",
    "coordenadas_estacoes = {}\n",
    "for estado in estados:\n",
    "    #ja adiciona o diretorio pai para facilitar a abertura dos arquivos\n",
    "    estacoes[estado] = [  '2006/'+estado+'/'+estacao for estacao in os.listdir('2006/'+estado)]\n",
    "    for estacao in estacoes[estado]: #Coleta a Latitude e Longitude de cada estacao disponivel\n",
    "        #print(estacao)\n",
    "        with open(estacao) as estacao_arq: #Le os cabecalhos de cada arquivo (7 primeiras linhas)\n",
    "            linhas = [next(estacao_arq) for x in range(7)]\n",
    "        lat = linhas[4].split('UDE:;')[1].split(\"\\n\")[0].replace(',', '.') #Limpa o valor de Latitude\n",
    "        lon = linhas[5].split('UDE:;')[1].split(\"\\n\")[0].replace(',', '.') #Limpa o valor de Longitude\n",
    "        coordenadas_estacoes[estacao] = [float(lat), float(lon)] #Cria um dicionario de dados de estacao e lat/lon"
   ]
  },
  {
   "cell_type": "code",
   "execution_count": 4,
   "metadata": {},
   "outputs": [],
   "source": [
    "#importa pandas\n",
    "import pandas as pd"
   ]
  },
  {
   "cell_type": "code",
   "execution_count": 5,
   "metadata": {},
   "outputs": [],
   "source": [
    "def Haversine(ponto1, ponto2):\n",
    "    \"\"\"\n",
    "    Calcula a distancia em Kilometros entre duas estações de coleta\n",
    "    \"\"\"\n",
    "    lat1 = ponto1[0]\n",
    "    lng1 = ponto1[1]\n",
    "    lat2 = ponto2[0]\n",
    "    lng2 = ponto2[1]\n",
    "    lat1, lng1, lat2, lng2 = map(radians, (lat1, lng1, lat2, lng2))\n",
    "    lat = lat2 - lat1\n",
    "    lng = lng2 - lng1\n",
    "    d = sin(lat * 0.5) ** 2 + cos(lat1) * cos(lat2) * sin(lng * 0.5) ** 2\n",
    "    h = 2 * 6371 * asin(sqrt(d))  #diametro em km\n",
    "    return h"
   ]
  },
  {
   "cell_type": "code",
   "execution_count": 20,
   "metadata": {},
   "outputs": [],
   "source": [
    "def mais_proximo(lat, lon, coordenadas_estacoes):\n",
    "    \"\"\"\n",
    "    Encontra em um dicionario de estacoes com coordenadas a mais proxima\n",
    "    \"\"\"\n",
    "    distancias = {}\n",
    "    for estacao in coordenadas_estacoes.keys():\n",
    "        distancias[Haversine( [lat,lon], coordenadas_estacoes[estacao] )] = estacao\n",
    "    #print(min(distancias.keys()))\n",
    "    #print(distancias[min(distancias.keys())])\n",
    "    return distancias[min(distancias.keys())]"
   ]
  },
  {
   "cell_type": "code",
   "execution_count": 21,
   "metadata": {},
   "outputs": [],
   "source": [
    "def coleta_coord_por_nome_municipio(nome_municipio):\n",
    "    municipios = pd.read_csv('municipios.csv')\n",
    "    return [ [ linha[2], linha[3] ] for linha in municipios[ municipios.nome == nome_municipio].values.tolist() ]"
   ]
  },
  {
   "cell_type": "code",
   "execution_count": 22,
   "metadata": {},
   "outputs": [],
   "source": [
    "def get_chuva(arquivo_estacao):\n",
    "    with open(arquivo_estacao) as arqv:\n",
    "        texto = ( ''.join(arqv.readlines()[8:]).split(\"\\n\") )\n",
    "        for linha in range(0, len(texto)):\n",
    "            texto[linha] = texto[linha].split(\";\")\n",
    "    arqv.close()\n",
    "    df_estacao = pd.DataFrame(texto)\n",
    "    df_estacao.columns = df_estacao.values[0].tolist()\n",
    "    df_estacao = df_estacao.iloc[1:-1]\n",
    "    return df_estacao"
   ]
  },
  {
   "cell_type": "code",
   "execution_count": 35,
   "metadata": {},
   "outputs": [],
   "source": [
    "def get_total_chuva_dia(dia, dados_estacao): #YYYY-MM-DD\n",
    "    chv_total = 0 \n",
    "    vdf = dados_estacao[['DATA (YYYY-MM-DD)', 'HORA (UTC)', 'PRECIPITAÇÃO TOTAL, HORÁRIO (mm)']][ dados_estacao['DATA (YYYY-MM-DD)'] == dia ]['PRECIPITAÇÃO TOTAL, HORÁRIO (mm)']\n",
    "    chv_total = sum([ j for j in [ float(i.replace(',','.')) for i in vdf.values] if j != -9999 ])\n",
    "    return chv_total"
   ]
  },
  {
   "cell_type": "code",
   "execution_count": 36,
   "metadata": {},
   "outputs": [
    {
     "data": {
      "text/plain": [
       "'2006/SP/INMET_SE_SP_A701_SAO PAULO - MIRANTE_25-07-2006_A_31-12-2006.CSV'"
      ]
     },
     "execution_count": 36,
     "metadata": {},
     "output_type": "execute_result"
    }
   ],
   "source": [
    "#Mais proximo de Guarulhos por exemplo\n",
    "mais_proximo(-23.413, -46.4445, coordenadas_estacoes)"
   ]
  },
  {
   "cell_type": "code",
   "execution_count": 55,
   "metadata": {},
   "outputs": [
    {
     "name": "stdout",
     "output_type": "stream",
     "text": [
      "2006/MG/INMET_SE_MG_A524_FORMIGA_17-08-2006_A_31-12-2006.CSV\n",
      "Total chuva 23.8\n"
     ]
    }
   ],
   "source": [
    "for municipio in coleta_coord_por_nome_municipio(\"Divinópolis\"):\n",
    "    print(mais_proximo(municipio[0], municipio[1], coordenadas_estacoes))\n",
    "    dados_estacao = (get_chuva(mais_proximo(municipio[0], municipio[1], coordenadas_estacoes)))\n",
    "    total_de_chuva = get_total_chuva_dia('2006-12-21', dados_estacao)\n",
    "    print('Total chuva', round(total_de_chuva, 2))"
   ]
  },
  {
   "cell_type": "code",
   "execution_count": null,
   "metadata": {},
   "outputs": [],
   "source": []
  }
 ],
 "metadata": {
  "kernelspec": {
   "display_name": "Python 3",
   "language": "python",
   "name": "python3"
  },
  "language_info": {
   "codemirror_mode": {
    "name": "ipython",
    "version": 3
   },
   "file_extension": ".py",
   "mimetype": "text/x-python",
   "name": "python",
   "nbconvert_exporter": "python",
   "pygments_lexer": "ipython3",
   "version": "3.6.5"
  }
 },
 "nbformat": 4,
 "nbformat_minor": 4
}
